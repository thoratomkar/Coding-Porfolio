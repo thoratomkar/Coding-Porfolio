{
 "cells": [
  {
   "cell_type": "code",
   "execution_count": 7,
   "metadata": {},
   "outputs": [
    {
     "name": "stdout",
     "output_type": "stream",
     "text": [
      "VhAsDvHgSaDdFsGdDgDhDhD\n"
     ]
    }
   ],
   "source": [
    "def myfunc(s):\n",
    "    mylist = []\n",
    "    for x in range(0,len(s)):\n",
    "        if x%2==0:\n",
    "            mylist.append(s[x].upper())\n",
    "        else:\n",
    "            mylist.append(s[x].lower())\n",
    "    return ''.join(mylist)\n",
    "    \n",
    "result=myfunc('vhasdvhgsaddfsgddgdhdhd')\n",
    "print(result)"
   ]
  },
  {
   "cell_type": "code",
   "execution_count": null,
   "metadata": {},
   "outputs": [],
   "source": []
  }
 ],
 "metadata": {
  "kernelspec": {
   "display_name": "Python 3",
   "language": "python",
   "name": "python3"
  }
 },
 "nbformat": 4,
 "nbformat_minor": 2
}
